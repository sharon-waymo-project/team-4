{
 "cells": [
  {
   "cell_type": "code",
   "execution_count": 3,
   "metadata": {},
   "outputs": [],
   "source": [
    "import pandas as pd\n",
    "import numpy as np\n",
    "from sklearn.model_selection import train_test_split\n",
    "from sklearn.model_selection import cross_val_score"
   ]
  },
  {
   "cell_type": "code",
   "execution_count": 4,
   "metadata": {},
   "outputs": [],
   "source": [
    "train = pd.read_csv('result.csv',header = None)"
   ]
  },
  {
   "cell_type": "code",
   "execution_count": 5,
   "metadata": {},
   "outputs": [
    {
     "data": {
      "text/html": [
       "<div>\n",
       "<style scoped>\n",
       "    .dataframe tbody tr th:only-of-type {\n",
       "        vertical-align: middle;\n",
       "    }\n",
       "\n",
       "    .dataframe tbody tr th {\n",
       "        vertical-align: top;\n",
       "    }\n",
       "\n",
       "    .dataframe thead th {\n",
       "        text-align: right;\n",
       "    }\n",
       "</style>\n",
       "<table border=\"1\" class=\"dataframe\">\n",
       "  <thead>\n",
       "    <tr style=\"text-align: right;\">\n",
       "      <th></th>\n",
       "      <th>0</th>\n",
       "      <th>1</th>\n",
       "      <th>2</th>\n",
       "      <th>3</th>\n",
       "      <th>4</th>\n",
       "      <th>5</th>\n",
       "      <th>6</th>\n",
       "      <th>7</th>\n",
       "      <th>8</th>\n",
       "      <th>9</th>\n",
       "      <th>10</th>\n",
       "      <th>11</th>\n",
       "      <th>12</th>\n",
       "      <th>13</th>\n",
       "    </tr>\n",
       "  </thead>\n",
       "  <tbody>\n",
       "    <tr>\n",
       "      <td>0</td>\n",
       "      <td>1.562509</td>\n",
       "      <td>-2.910007</td>\n",
       "      <td>-0.073663</td>\n",
       "      <td>15.113061</td>\n",
       "      <td>-0.630373</td>\n",
       "      <td>-1.566341</td>\n",
       "      <td>2.917560</td>\n",
       "      <td>0.073612</td>\n",
       "      <td>0.000000</td>\n",
       "      <td>0.000000</td>\n",
       "      <td>0.000000</td>\n",
       "      <td>0.000000</td>\n",
       "      <td>0.000000</td>\n",
       "      <td>0.000000</td>\n",
       "    </tr>\n",
       "    <tr>\n",
       "      <td>1</td>\n",
       "      <td>1.482195</td>\n",
       "      <td>-3.004686</td>\n",
       "      <td>-0.017990</td>\n",
       "      <td>14.796358</td>\n",
       "      <td>-0.089641</td>\n",
       "      <td>-1.485752</td>\n",
       "      <td>3.012373</td>\n",
       "      <td>0.017909</td>\n",
       "      <td>-0.801797</td>\n",
       "      <td>-0.943309</td>\n",
       "      <td>0.554203</td>\n",
       "      <td>0.799055</td>\n",
       "      <td>0.941983</td>\n",
       "      <td>-0.553910</td>\n",
       "    </tr>\n",
       "    <tr>\n",
       "      <td>2</td>\n",
       "      <td>1.400299</td>\n",
       "      <td>-3.099519</td>\n",
       "      <td>0.032301</td>\n",
       "      <td>14.453447</td>\n",
       "      <td>0.463837</td>\n",
       "      <td>-1.403558</td>\n",
       "      <td>3.107336</td>\n",
       "      <td>-0.032396</td>\n",
       "      <td>-0.817762</td>\n",
       "      <td>-0.944817</td>\n",
       "      <td>0.500502</td>\n",
       "      <td>0.814804</td>\n",
       "      <td>0.943517</td>\n",
       "      <td>-0.500356</td>\n",
       "    </tr>\n",
       "    <tr>\n",
       "      <td>3</td>\n",
       "      <td>1.027211</td>\n",
       "      <td>-3.667378</td>\n",
       "      <td>0.042541</td>\n",
       "      <td>63.778413</td>\n",
       "      <td>0.335448</td>\n",
       "      <td>-1.029739</td>\n",
       "      <td>3.675586</td>\n",
       "      <td>-0.042733</td>\n",
       "      <td>-3.719219</td>\n",
       "      <td>-5.653652</td>\n",
       "      <td>0.102848</td>\n",
       "      <td>3.711945</td>\n",
       "      <td>5.649764</td>\n",
       "      <td>-0.101877</td>\n",
       "    </tr>\n",
       "    <tr>\n",
       "      <td>4</td>\n",
       "      <td>0.742374</td>\n",
       "      <td>-3.927589</td>\n",
       "      <td>0.134995</td>\n",
       "      <td>61.952623</td>\n",
       "      <td>0.148126</td>\n",
       "      <td>-1.018625</td>\n",
       "      <td>3.689735</td>\n",
       "      <td>-0.126700</td>\n",
       "      <td>-0.110571</td>\n",
       "      <td>-0.140772</td>\n",
       "      <td>0.835406</td>\n",
       "      <td>2.833914</td>\n",
       "      <td>2.588908</td>\n",
       "      <td>-0.919843</td>\n",
       "    </tr>\n",
       "  </tbody>\n",
       "</table>\n",
       "</div>"
      ],
      "text/plain": [
       "         0         1         2          3         4         5         6   \\\n",
       "0  1.562509 -2.910007 -0.073663  15.113061 -0.630373 -1.566341  2.917560   \n",
       "1  1.482195 -3.004686 -0.017990  14.796358 -0.089641 -1.485752  3.012373   \n",
       "2  1.400299 -3.099519  0.032301  14.453447  0.463837 -1.403558  3.107336   \n",
       "3  1.027211 -3.667378  0.042541  63.778413  0.335448 -1.029739  3.675586   \n",
       "4  0.742374 -3.927589  0.134995  61.952623  0.148126 -1.018625  3.689735   \n",
       "\n",
       "         7         8         9         10        11        12        13  \n",
       "0  0.073612  0.000000  0.000000  0.000000  0.000000  0.000000  0.000000  \n",
       "1  0.017909 -0.801797 -0.943309  0.554203  0.799055  0.941983 -0.553910  \n",
       "2 -0.032396 -0.817762 -0.944817  0.500502  0.814804  0.943517 -0.500356  \n",
       "3 -0.042733 -3.719219 -5.653652  0.102848  3.711945  5.649764 -0.101877  \n",
       "4 -0.126700 -0.110571 -0.140772  0.835406  2.833914  2.588908 -0.919843  "
      ]
     },
     "execution_count": 5,
     "metadata": {},
     "output_type": "execute_result"
    }
   ],
   "source": [
    "train.head()"
   ]
  },
  {
   "cell_type": "code",
   "execution_count": 6,
   "metadata": {},
   "outputs": [],
   "source": [
    "X = train.loc[:,:10]\n",
    "y = train.loc[:,11:13]\n",
    "X_train, X_test, y_train, y_test = train_test_split(X, y)"
   ]
  },
  {
   "cell_type": "code",
   "execution_count": 7,
   "metadata": {},
   "outputs": [
    {
     "data": {
      "text/plain": [
       "(1748, 11)"
      ]
     },
     "execution_count": 7,
     "metadata": {},
     "output_type": "execute_result"
    }
   ],
   "source": [
    "X_train.shape"
   ]
  },
  {
   "cell_type": "code",
   "execution_count": 8,
   "metadata": {},
   "outputs": [
    {
     "data": {
      "text/plain": [
       "(1748, 3)"
      ]
     },
     "execution_count": 8,
     "metadata": {},
     "output_type": "execute_result"
    }
   ],
   "source": [
    "y_train.shape"
   ]
  },
  {
   "cell_type": "code",
   "execution_count": 9,
   "metadata": {},
   "outputs": [],
   "source": [
    "from sklearn.neighbors import KNeighborsRegressor\n",
    "from sklearn.multioutput import MultiOutputRegressor\n",
    "\n",
    "knn = KNeighborsRegressor()\n",
    "regr = MultiOutputRegressor(knn)\n"
   ]
  },
  {
   "cell_type": "code",
   "execution_count": 10,
   "metadata": {},
   "outputs": [
    {
     "data": {
      "text/plain": [
       "MultiOutputRegressor(estimator=KNeighborsRegressor(algorithm='auto',\n",
       "                                                   leaf_size=30,\n",
       "                                                   metric='minkowski',\n",
       "                                                   metric_params=None,\n",
       "                                                   n_jobs=None, n_neighbors=5,\n",
       "                                                   p=2, weights='uniform'),\n",
       "                     n_jobs=None)"
      ]
     },
     "execution_count": 10,
     "metadata": {},
     "output_type": "execute_result"
    }
   ],
   "source": [
    "regr.fit(X_train,y_train)\n"
   ]
  },
  {
   "cell_type": "code",
   "execution_count": 14,
   "metadata": {},
   "outputs": [
    {
     "data": {
      "text/plain": [
       "array([[-1.13235928e+00,  1.35977046e-01,  5.24907657e-01],\n",
       "       [ 9.64518609e-01,  1.86576577e+00,  3.59693435e-02],\n",
       "       [-1.06548060e-01,  8.90298010e-02,  1.88048038e-01],\n",
       "       ...,\n",
       "       [-3.95883052e-01, -7.23364761e-02, -4.74506227e-03],\n",
       "       [ 3.89376687e-03,  6.76001316e-03, -1.36038310e-04],\n",
       "       [ 1.67688552e-01,  1.61441035e-01, -1.93021616e-02]])"
      ]
     },
     "execution_count": 14,
     "metadata": {},
     "output_type": "execute_result"
    }
   ],
   "source": [
    "regr.predict(X_test)"
   ]
  },
  {
   "cell_type": "code",
   "execution_count": 15,
   "metadata": {},
   "outputs": [
    {
     "data": {
      "text/plain": [
       "0.14970264804585473"
      ]
     },
     "execution_count": 15,
     "metadata": {},
     "output_type": "execute_result"
    }
   ],
   "source": [
    "regr.score(X_test,y_test)"
   ]
  },
  {
   "cell_type": "code",
   "execution_count": 16,
   "metadata": {},
   "outputs": [],
   "source": [
    "from sklearn.tree import DecisionTreeRegressor\n",
    "dt = DecisionTreeRegressor()\n",
    "regr = MultiOutputRegressor(dt)"
   ]
  },
  {
   "cell_type": "code",
   "execution_count": 17,
   "metadata": {},
   "outputs": [
    {
     "data": {
      "text/plain": [
       "MultiOutputRegressor(estimator=DecisionTreeRegressor(criterion='mse',\n",
       "                                                     max_depth=None,\n",
       "                                                     max_features=None,\n",
       "                                                     max_leaf_nodes=None,\n",
       "                                                     min_impurity_decrease=0.0,\n",
       "                                                     min_impurity_split=None,\n",
       "                                                     min_samples_leaf=1,\n",
       "                                                     min_samples_split=2,\n",
       "                                                     min_weight_fraction_leaf=0.0,\n",
       "                                                     presort=False,\n",
       "                                                     random_state=None,\n",
       "                                                     splitter='best'),\n",
       "                     n_jobs=None)"
      ]
     },
     "execution_count": 17,
     "metadata": {},
     "output_type": "execute_result"
    }
   ],
   "source": [
    "regr.fit(X_train,y_train)"
   ]
  },
  {
   "cell_type": "code",
   "execution_count": 18,
   "metadata": {},
   "outputs": [
    {
     "data": {
      "text/plain": [
       "-1.4053332554928115"
      ]
     },
     "execution_count": 18,
     "metadata": {},
     "output_type": "execute_result"
    }
   ],
   "source": [
    "regr.score(X_test,y_test)"
   ]
  },
  {
   "cell_type": "code",
   "execution_count": 19,
   "metadata": {},
   "outputs": [],
   "source": [
    "from sklearn.model_selection import cross_val_score"
   ]
  },
  {
   "cell_type": "code",
   "execution_count": 20,
   "metadata": {},
   "outputs": [
    {
     "data": {
      "text/plain": [
       "array([-0.09195008,  0.24378424, -0.87657967, -0.72069666, -7.94481426])"
      ]
     },
     "execution_count": 20,
     "metadata": {},
     "output_type": "execute_result"
    }
   ],
   "source": [
    "cross_val_score(regr, X_test, y_test, cv=5)"
   ]
  },
  {
   "cell_type": "code",
   "execution_count": null,
   "metadata": {},
   "outputs": [],
   "source": []
  }
 ],
 "metadata": {
  "kernelspec": {
   "display_name": "Python 3",
   "language": "python",
   "name": "python3"
  },
  "language_info": {
   "codemirror_mode": {
    "name": "ipython",
    "version": 3
   },
   "file_extension": ".py",
   "mimetype": "text/x-python",
   "name": "python",
   "nbconvert_exporter": "python",
   "pygments_lexer": "ipython3",
   "version": "3.5.3"
  }
 },
 "nbformat": 4,
 "nbformat_minor": 2
}
